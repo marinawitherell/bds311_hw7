{
 "cells": [
  {
   "cell_type": "code",
   "execution_count": 35,
   "id": "46ed9bfb",
   "metadata": {
    "deletable": false,
    "editable": false,
    "tags": []
   },
   "outputs": [],
   "source": [
    "# Initialize Otter\n",
    "import otter\n",
    "grader = otter.Notebook(\"hw07.ipynb\")"
   ]
  },
  {
   "cell_type": "code",
   "execution_count": 36,
   "id": "352d389c-fa72-41b1-84b2-276f27a5afd8",
   "metadata": {
    "tags": []
   },
   "outputs": [],
   "source": [
    "import pandas as pd\n",
    "import numpy as np\n",
    "import matplotlib.pyplot as plt"
   ]
  },
  {
   "cell_type": "markdown",
   "id": "56cdc684-6f38-4550-811c-a4e32e720631",
   "metadata": {},
   "source": [
    "# Homework 7: Bootstrapping"
   ]
  },
  {
   "cell_type": "markdown",
   "id": "f9dee762-cd43-4bc8-86f8-bcf0b736f7b0",
   "metadata": {},
   "source": [
    "## Due Monday 3/3 at 11:59 pm"
   ]
  },
  {
   "cell_type": "markdown",
   "id": "d9d77694-90c6-4f0d-a7af-2f6c5c07ff17",
   "metadata": {},
   "source": [
    "### Point Breakdown (43 pts): \n",
    "- 1a: 8 pts\n",
    "- 1b: 7 pts\n",
    "- 2a: 8 pts\n",
    "- 2b: 2 pts\n",
    "- 2c: 8 pts\n",
    "- 2d: 10 pts\n",
    "- 2e (optional): 0 pts"
   ]
  },
  {
   "cell_type": "markdown",
   "id": "dd733f6b-3986-4ab2-baec-5909a1d606ac",
   "metadata": {
    "tags": []
   },
   "source": [
    "## Question 1: Bootstrapping with Cloudseed Data\n",
    "For this question, we will be continuing data analysis with the cloud seed data from HW06. In case you forgot, `cloudseed.csv` contains precipitation data from a randomized experiment carried out in the 1970s in Florida to evaluate cloud seeding (a technique that involves injecting clouds with a chemical to increase rainfall). On each of 52 days suitable for cloud seeding, the experimenters used a random mechanism to decide whether to seed clouds or not. A plane flew through the clouds each day regardless of seeding, and the plane’s pilot did not know whether seeding was occurring. Precipitation was measured as total rain volume (in acre-feet) in the 24 hours following the plane’s run."
   ]
  },
  {
   "cell_type": "markdown",
   "id": "3609230e-b00f-4f9a-94c6-61110b87e2fd",
   "metadata": {},
   "source": [
    "### Question 1a: Applying the Bootstrap (8 pts)\n",
    "Use a bootstrap approach, resampling 1000 times, to separately calculate 95% confidence intervals for the mean rainfall in the unseeded data and seeded data. Save this interval to arrays `seeded_conf_interval` and `unseeded_conf_interval`, each of which should have two values, representing the 2.5th and 97.5th percentiles.\n"
   ]
  },
  {
   "cell_type": "code",
   "execution_count": 37,
   "id": "24bfd4f8-4819-4b5f-a3cb-2bd8c692d957",
   "metadata": {
    "tags": []
   },
   "outputs": [
    {
     "name": "stdout",
     "output_type": "stream",
     "text": [
      "[225.37528846 712.00105769]\n",
      "[ 72.88942308 285.40519231]\n"
     ]
    }
   ],
   "source": [
    "df=pd.read_csv('cloudseed.csv')\n",
    "\n",
    "bootstrapped_means_seeded=[]\n",
    "bootstrapped_means_unseeded=[]\n",
    "\n",
    "for iteration in np.arange(1000):\n",
    "    rand_values=np.random.choice(df['seeded'],len(df['seeded']))\n",
    "    bootstrapped_means_seeded.append(np.mean(rand_values))\n",
    "    \n",
    "for iteration in np.arange(1000):\n",
    "    rand_values=np.random.choice(df['unseeded'],len(df['unseeded']))\n",
    "    bootstrapped_means_unseeded.append(np.mean(rand_values))\n",
    "    \n",
    "seeded_conf_interval = np.percentile(bootstrapped_means_seeded,[2.5,97.5])\n",
    "unseeded_conf_interval = np.percentile(bootstrapped_means_unseeded,[2.5,97.5])\n",
    "    \n",
    "print(seeded_conf_interval)\n",
    "print(unseeded_conf_interval)"
   ]
  },
  {
   "cell_type": "code",
   "execution_count": 38,
   "id": "8aed3460",
   "metadata": {
    "deletable": false,
    "editable": false
   },
   "outputs": [
    {
     "data": {
      "text/html": [
       "<p><strong><pre style='display: inline;'>q1a</pre></strong> passed! 🎉</p>"
      ],
      "text/plain": [
       "q1a results: All test cases passed!"
      ]
     },
     "execution_count": 38,
     "metadata": {},
     "output_type": "execute_result"
    }
   ],
   "source": [
    "grader.check(\"q1a\")"
   ]
  },
  {
   "cell_type": "markdown",
   "id": "9ed8037c-162e-444a-a7a0-06da328c4fa1",
   "metadata": {
    "tags": []
   },
   "source": [
    "### Question 1b: Plotting Confidence Intervals (7 pts)\n",
    "\n",
    "Scatter the seeded vs unseeded data and display the 95% confidence interval for each group as a vertical line, trying to recreate the plot shown below.\n",
    "You may reuse some of your code from HW06. Your plot will be manually graded, and points will be awarded based on the following criteria:\n",
    "- 1 pt: correct seeded & unseeded data\n",
    "- 1 pt: markers for mean of each group\n",
    "- 1 pt: correct x & y labels\n",
    "- 4 pts: confidence intervals\n",
    "\n",
    "<img src='./1b_plot.png' width=\"500px\" />"
   ]
  },
  {
   "cell_type": "markdown",
   "id": "729b53ce",
   "metadata": {
    "deletable": false,
    "editable": false
   },
   "source": [
    "<!-- BEGIN QUESTION -->\n",
    "\n"
   ]
  },
  {
   "cell_type": "code",
   "execution_count": 39,
   "id": "78a703ea-6dbe-404f-ac92-39e94fc4bb9a",
   "metadata": {
    "tags": []
   },
   "outputs": [
    {
     "data": {
      "text/plain": [
       "[Text(0, 0, 'Unseeded'), Text(1, 0, 'Seeded')]"
      ]
     },
     "execution_count": 39,
     "metadata": {},
     "output_type": "execute_result"
    },
    {
     "data": {
      "image/png": "[encoded data removed]",
      "text/plain": [
       "<Figure size 640x480 with 1 Axes>"
      ]
     },
     "metadata": {},
     "output_type": "display_data"
    }
   ],
   "source": [
    "fig=plt.figure()\n",
    "# fig.set_size_inches(5, 10)\n",
    "ax1=fig.add_subplot(111)\n",
    "\n",
    "ax1.scatter(np.zeros(len(df['seeded'])), df['unseeded'], edgecolor='k', s=15, facecolors= 'none')\n",
    "ax1.plot(0.1, np.mean(df['unseeded']), '<', color='k')\n",
    "ax1.plot([0.2,0.2], [unseeded_conf_interval[0], unseeded_conf_interval[1]], 'k')\n",
    "ax1.scatter(np.zeros(len(df['seeded']),)+1, df['seeded'], edgecolor='r', s=15, facecolors= 'none')\n",
    "ax1.plot(1.1, np.mean(df['seeded']), '<', color='r')\n",
    "ax1.plot([1.2, 1.2], [seeded_conf_interval[0], seeded_conf_interval[1]], 'r')\n",
    "\n",
    "ax1.set_ylabel('precipitation')\n",
    "ax1.set_xticks([0,1])\n",
    "ax1.set_xticklabels(['Unseeded', 'Seeded'])"
   ]
  },
  {
   "cell_type": "markdown",
   "id": "5969847e-f818-4118-a255-d5425fd7502c",
   "metadata": {
    "deletable": false,
    "editable": false
   },
   "source": [
    "<!-- END QUESTION -->\n",
    "\n",
    "---\n",
    "## Question 2: Bootstrapping with Genomic Data\n"
   ]
  },
  {
   "cell_type": "markdown",
   "id": "79df5821-eff6-4d78-b79a-9b08d513ac4d",
   "metadata": {
    "tags": []
   },
   "source": [
    "The file `polymorphic.csv` was created using some of the supplementary materials of Ptak et al. (PLoS Biology 2004) [doi:10.1371/journal.pbio.0020155](doi:10.1371/journal.pbio.0020155). <br>  \n",
    "The `Chimp` column is a name/number identifying a chimpanzee and the `Sequence` column lists sequences identifying single nucleotide polymorphisms. Each sequence is 57 base pairs long and each chimpanzee contributes two copies of the sequence, leading to 48 distinct sequences."
   ]
  },
  {
   "cell_type": "markdown",
   "id": "9a9e7139-4711-4e65-a0ce-e0b53e093d05",
   "metadata": {},
   "source": [
    "### Question 2a: Writing a Function that Calculates a Consensus Sequence From Many Variants (8 pts)\n",
    "Write a function `consensus` that takes as input a list/series/array of equal-length sequences (strings composed of the characters A,C,G, or T). \n",
    "  \n",
    "The function should return a string of the same length, where the character at each position is the most common character across the input strings.\n",
    "If there are two or more equally common characters, the function should choose randomly from the most common characters.\n",
    "  \n",
    "\n",
    "**Hint:** To find the unique letters present at any given point in a sequence, consider using `np.unique()` with the `return_counts = True` flag. The output of this will be two arrays: one with the unique values, and another with the corresponding counts of each unique value."
   ]
  },
  {
   "cell_type": "code",
   "execution_count": 40,
   "id": "2a00c27c-c388-491d-9668-eb5e476085f6",
   "metadata": {
    "tags": []
   },
   "outputs": [],
   "source": [
    "ch_df=pd.read_csv('polymorphic.csv')\n",
    "\n",
    "def consensus(sequences):\n",
    "    seq_len = len(sequences[0])\n",
    "    consensus_seq = ''\n",
    "    \n",
    "    for i in range(seq_len):\n",
    "        current_chars = [seq[i] for seq in sequences]\n",
    "        unique_chars, counts = np.unique(current_chars, return_counts=True)\n",
    "        max_count_indices = np.where(counts == counts.max())[0]\n",
    "        chosen_char = np.random.choice(unique_chars[max_count_indices])\n",
    "        consensus_seq += chosen_char\n",
    "        \n",
    "    return consensus_seq"
   ]
  },
  {
   "cell_type": "code",
   "execution_count": 41,
   "id": "7bdc9e62",
   "metadata": {
    "deletable": false,
    "editable": false
   },
   "outputs": [
    {
     "data": {
      "text/html": [
       "<p><strong><pre style='display: inline;'>q2a</pre></strong> passed! 🙌</p>"
      ],
      "text/plain": [
       "q2a results: All test cases passed!"
      ]
     },
     "execution_count": 41,
     "metadata": {},
     "output_type": "execute_result"
    }
   ],
   "source": [
    "grader.check(\"q2a\")"
   ]
  },
  {
   "cell_type": "markdown",
   "id": "0f7bfead-18f8-4de2-99f1-ed07ced67426",
   "metadata": {},
   "source": [
    "### Question 2b: Determining the Consensus Sequence From the Chimpanzee Data (2 pts)\n",
    "\n",
    "Use your consensus function to calculate the consensus sequence over the 48 sequences in `polymorphic.csv`.  \n",
    "Assign the consensus sequence as a string to the variable `consensus_seq`. \n"
   ]
  },
  {
   "cell_type": "code",
   "execution_count": 42,
   "id": "674e22a0-7e91-45b6-8a2c-3eb439a69e58",
   "metadata": {
    "tags": []
   },
   "outputs": [
    {
     "name": "stdout",
     "output_type": "stream",
     "text": [
      "ATACCCTGGAGGCAAGAATCTTCCGATAGACGCCAGTCCCTAGTTGTCCCCGACCTC\n"
     ]
    }
   ],
   "source": [
    "consensus_seq = consensus(ch_df['Sequence'])\n",
    "print(consensus_seq)"
   ]
  },
  {
   "cell_type": "code",
   "execution_count": 43,
   "id": "e89946b5",
   "metadata": {
    "deletable": false,
    "editable": false
   },
   "outputs": [
    {
     "data": {
      "text/html": [
       "<p><strong><pre style='display: inline;'>q2b</pre></strong> passed! 🌟</p>"
      ],
      "text/plain": [
       "q2b results: All test cases passed!"
      ]
     },
     "execution_count": 43,
     "metadata": {},
     "output_type": "execute_result"
    }
   ],
   "source": [
    "grader.check(\"q2b\")"
   ]
  },
  {
   "cell_type": "markdown",
   "id": "07d9319a-1eec-4201-b611-370ea74fb295",
   "metadata": {},
   "source": [
    "### Question 2c: Calculating the Similarity of Each Sequence to the Consensus Sequence (8 pts)\n",
    "Write a function named `similarity` that calculates the similarity of each observed sequence to the consensus sequence.\n",
    "\n",
    "Calculate similarity as the proportion of nucleotides that match the consensus sequence.\n",
    "\n",
    "The function should have 2 inputs: \n",
    "- the consensus sequence    \n",
    "- a list or array of sequences that will be compared to the consensus sequence    \n",
    "\n",
    "The function should output a dictionary with the sequence index as the key (e.g. 0,1,2,...,47) and the similarity proportion as a value. For instance, if a sequence is 97% similar to the consensus, the value should be 0.97.\n",
    "<br>\n",
    "Use your function to calculate the similarity of all 48 chimp sequences to the consensus sequence calculated in 2b. Assign the dictionary to the variable `consensus_dict`."
   ]
  },
  {
   "cell_type": "code",
   "execution_count": 44,
   "id": "a503853d-22c0-4499-9226-cfb8cf11797c",
   "metadata": {
    "tags": []
   },
   "outputs": [
    {
     "name": "stdout",
     "output_type": "stream",
     "text": [
      "{0: 1.0, 1: 0.9122807017543859, 2: 0.9298245614035088, 3: 0.7368421052631579, 4: 0.9122807017543859, 5: 0.7543859649122807, 6: 0.8771929824561403, 7: 0.7368421052631579, 8: 0.6491228070175439, 9: 0.5789473684210527, 10: 0.6491228070175439, 11: 0.5789473684210527, 12: 0.9649122807017544, 13: 0.9298245614035088, 14: 0.8947368421052632, 15: 0.8070175438596491, 16: 0.9649122807017544, 17: 0.8596491228070176, 18: 0.8947368421052632, 19: 0.6842105263157895, 20: 0.8070175438596491, 21: 0.6666666666666666, 22: 0.7543859649122807, 23: 0.7017543859649122, 24: 0.9122807017543859, 25: 0.7192982456140351, 26: 0.9473684210526315, 27: 0.9122807017543859, 28: 0.7719298245614035, 29: 0.7017543859649122, 30: 0.9298245614035088, 31: 0.9298245614035088, 32: 0.9473684210526315, 33: 0.9122807017543859, 34: 0.9649122807017544, 35: 0.8771929824561403, 36: 0.8070175438596491, 37: 0.6666666666666666, 38: 0.7894736842105263, 39: 0.7192982456140351, 40: 0.9298245614035088, 41: 0.7894736842105263, 42: 0.9649122807017544, 43: 0.9298245614035088, 44: 0.9122807017543859, 45: 0.7192982456140351, 46: 0.6666666666666666, 47: 0.5614035087719298}\n"
     ]
    }
   ],
   "source": [
    "def similarity(consensus, sequences):\n",
    "    seq_len = len(sequences[0])\n",
    "    consensus_dict = {}\n",
    "    index = -1\n",
    "    for seq in sequences:\n",
    "        index = index + 1\n",
    "        same_chars=0\n",
    "        for i in range(seq_len):\n",
    "            if seq[i] == consensus[i]:\n",
    "                same_chars = same_chars + 1\n",
    "        proportion = same_chars / seq_len\n",
    "        consensus_dict[index] = proportion\n",
    "    return consensus_dict\n",
    "        \n",
    "# Test function with polymorphic data\n",
    "consensus_dict = similarity(consensus_seq, ch_df['Sequence'])\n",
    "\n",
    "print(consensus_dict)"
   ]
  },
  {
   "cell_type": "code",
   "execution_count": 45,
   "id": "0b5f9614",
   "metadata": {
    "deletable": false,
    "editable": false
   },
   "outputs": [
    {
     "data": {
      "text/html": [
       "<p><strong><pre style='display: inline;'>q2c</pre></strong> passed! 🍀</p>"
      ],
      "text/plain": [
       "q2c results: All test cases passed!"
      ]
     },
     "execution_count": 45,
     "metadata": {},
     "output_type": "execute_result"
    }
   ],
   "source": [
    "grader.check(\"q2c\")"
   ]
  },
  {
   "cell_type": "markdown",
   "id": "5c3af88d-ebf2-4422-b040-dd5ac52493ee",
   "metadata": {},
   "source": [
    "### Question 2d: Bootstrapping the Observed Sequences (10 pts)\n",
    "\n",
    "What consensus sequences might we measure with more extensive sampling? To determine this, bootstrap the sequences `100 times`, selecting 48 random sequences each time with replacement.  \n",
    "Append the consensus sequence chosen each time to a list named `bootstrapped_consensus_list`. Then, create a Pandas dataframe named `sequence_counts` with 2 columns (named exactly as shown here):\n",
    "- `Sequence`: each unique sequence that appears in `bootstrapped_consensus_list`\n",
    "- `Count`: the number of times the Sequence appears\n",
    "\n",
    "**Hint**: Use the `np.unique()` method, as described in the Hint of Question 2a.\n",
    "\n",
    "\n",
    "\n"
   ]
  },
  {
   "cell_type": "code",
   "execution_count": 46,
   "id": "5655f46c-5998-4eb6-ac65-7557a25b6d10",
   "metadata": {
    "tags": []
   },
   "outputs": [
    {
     "data": {
      "text/html": [
       "<div>\n",
       "<style scoped>\n",
       "    .dataframe tbody tr th:only-of-type {\n",
       "        vertical-align: middle;\n",
       "    }\n",
       "\n",
       "    .dataframe tbody tr th {\n",
       "        vertical-align: top;\n",
       "    }\n",
       "\n",
       "    .dataframe thead th {\n",
       "        text-align: right;\n",
       "    }\n",
       "</style>\n",
       "<table border=\"1\" class=\"dataframe\">\n",
       "  <thead>\n",
       "    <tr style=\"text-align: right;\">\n",
       "      <th></th>\n",
       "      <th>Sequence</th>\n",
       "      <th>Count</th>\n",
       "    </tr>\n",
       "  </thead>\n",
       "  <tbody>\n",
       "    <tr>\n",
       "      <th>11</th>\n",
       "      <td>ATACCCTGGAGGCAAGAATCTTCCGATAGACGCCAGTCCCTAGTTG...</td>\n",
       "      <td>34</td>\n",
       "    </tr>\n",
       "    <tr>\n",
       "      <th>8</th>\n",
       "      <td>ATACCCTGGAGGCAAAAATCTTCCGATAGACGCCAGTCCCTAGTTG...</td>\n",
       "      <td>30</td>\n",
       "    </tr>\n",
       "    <tr>\n",
       "      <th>7</th>\n",
       "      <td>ATACCCTGGAGGCAAAAATCTTCCGATAGACGCCAGTCCCTAGTTG...</td>\n",
       "      <td>15</td>\n",
       "    </tr>\n",
       "    <tr>\n",
       "      <th>6</th>\n",
       "      <td>ATACCCTGGAGGCAAAAATCTTCCGATAGACCCCAGTCCCTAGTTG...</td>\n",
       "      <td>6</td>\n",
       "    </tr>\n",
       "    <tr>\n",
       "      <th>9</th>\n",
       "      <td>ATACCCTGGAGGCAAGAATCTTCCGATAGACCCCAGTCCCTAGTTG...</td>\n",
       "      <td>6</td>\n",
       "    </tr>\n",
       "    <tr>\n",
       "      <th>0</th>\n",
       "      <td>ATACCCTGGAGATAAAAATCTTCCGATAGACCCCAGTCCCTAGTTG...</td>\n",
       "      <td>1</td>\n",
       "    </tr>\n",
       "    <tr>\n",
       "      <th>1</th>\n",
       "      <td>ATACCCTGGAGATAAAAATCTTCCGATAGACCCCAGTCCCTAGTTG...</td>\n",
       "      <td>1</td>\n",
       "    </tr>\n",
       "    <tr>\n",
       "      <th>2</th>\n",
       "      <td>ATACCCTGGAGATAAAAATCTTCCGATAGACCCCAGTCCCTAGTTG...</td>\n",
       "      <td>1</td>\n",
       "    </tr>\n",
       "    <tr>\n",
       "      <th>3</th>\n",
       "      <td>ATACCCTGGAGATAAGAATCTTCCGATAGACCCCAGTCCCTAGTTG...</td>\n",
       "      <td>1</td>\n",
       "    </tr>\n",
       "    <tr>\n",
       "      <th>4</th>\n",
       "      <td>ATACCCTGGAGATAAGAATCTTCCGATAGACCCCAGTCCCTAGTTG...</td>\n",
       "      <td>1</td>\n",
       "    </tr>\n",
       "    <tr>\n",
       "      <th>5</th>\n",
       "      <td>ATACCCTGGAGGCAAAAATCTTCCGATAGACCCCAGTCCCTAGTTG...</td>\n",
       "      <td>1</td>\n",
       "    </tr>\n",
       "    <tr>\n",
       "      <th>10</th>\n",
       "      <td>ATACCCTGGAGGCAAGAATCTTCCGATAGACGCCAGTCCCCAGTTG...</td>\n",
       "      <td>1</td>\n",
       "    </tr>\n",
       "    <tr>\n",
       "      <th>12</th>\n",
       "      <td>ATACCCTGGAGGTAAAAATCTTCCGATAGACCCCAGTCCCTAGTTG...</td>\n",
       "      <td>1</td>\n",
       "    </tr>\n",
       "    <tr>\n",
       "      <th>13</th>\n",
       "      <td>ATACCCTGGAGGTAAGAATCTTCCGATAGACCCCAGTCCCTAGTTG...</td>\n",
       "      <td>1</td>\n",
       "    </tr>\n",
       "  </tbody>\n",
       "</table>\n",
       "</div>"
      ],
      "text/plain": [
       "                                             Sequence Count\n",
       "11  ATACCCTGGAGGCAAGAATCTTCCGATAGACGCCAGTCCCTAGTTG...    34\n",
       "8   ATACCCTGGAGGCAAAAATCTTCCGATAGACGCCAGTCCCTAGTTG...    30\n",
       "7   ATACCCTGGAGGCAAAAATCTTCCGATAGACGCCAGTCCCTAGTTG...    15\n",
       "6   ATACCCTGGAGGCAAAAATCTTCCGATAGACCCCAGTCCCTAGTTG...     6\n",
       "9   ATACCCTGGAGGCAAGAATCTTCCGATAGACCCCAGTCCCTAGTTG...     6\n",
       "0   ATACCCTGGAGATAAAAATCTTCCGATAGACCCCAGTCCCTAGTTG...     1\n",
       "1   ATACCCTGGAGATAAAAATCTTCCGATAGACCCCAGTCCCTAGTTG...     1\n",
       "2   ATACCCTGGAGATAAAAATCTTCCGATAGACCCCAGTCCCTAGTTG...     1\n",
       "3   ATACCCTGGAGATAAGAATCTTCCGATAGACCCCAGTCCCTAGTTG...     1\n",
       "4   ATACCCTGGAGATAAGAATCTTCCGATAGACCCCAGTCCCTAGTTG...     1\n",
       "5   ATACCCTGGAGGCAAAAATCTTCCGATAGACCCCAGTCCCTAGTTG...     1\n",
       "10  ATACCCTGGAGGCAAGAATCTTCCGATAGACGCCAGTCCCCAGTTG...     1\n",
       "12  ATACCCTGGAGGTAAAAATCTTCCGATAGACCCCAGTCCCTAGTTG...     1\n",
       "13  ATACCCTGGAGGTAAGAATCTTCCGATAGACCCCAGTCCCTAGTTG...     1"
      ]
     },
     "execution_count": 46,
     "metadata": {},
     "output_type": "execute_result"
    }
   ],
   "source": [
    "num_bootstraps = 100\n",
    "bootstrapped_consensus_list = []\n",
    "\n",
    "for i in range(num_bootstraps):\n",
    "    bootstrapped_seq = np.random.choice(ch_df['Sequence'], size=48, replace = True)\n",
    "    bootstrapped_consensus = consensus(bootstrapped_seq)\n",
    "    bootstrapped_consensus_list.append(bootstrapped_consensus)\n",
    "    \n",
    "sequence_counts = pd.DataFrame(np.unique(bootstrapped_consensus_list, return_counts=True)).T\n",
    "sequence_counts.columns = ['Sequence', 'Count']\n",
    "                                        \n",
    "# This code will order your dataframe so that you can see the sequences in order of frequency\n",
    "sequence_counts.sort_values(by=['Count'], ascending=False)"
   ]
  },
  {
   "cell_type": "code",
   "execution_count": 47,
   "id": "6e0583d2",
   "metadata": {
    "deletable": false,
    "editable": false
   },
   "outputs": [
    {
     "data": {
      "text/html": [
       "<p><strong><pre style='display: inline;'>q2d</pre></strong> passed! 💯</p>"
      ],
      "text/plain": [
       "q2d results: All test cases passed!"
      ]
     },
     "execution_count": 47,
     "metadata": {},
     "output_type": "execute_result"
    }
   ],
   "source": [
    "grader.check(\"q2d\")"
   ]
  },
  {
   "cell_type": "markdown",
   "id": "8297a4b4-947b-4b23-b593-b98ba8203b82",
   "metadata": {},
   "source": [
    "### Question 2e (Optional): Visualizing Your Results (0 pts)\n",
    "The following visualization shows the consensus sequence in the top row and then each of the 48 sequences in subsequent rows. The similarity score is plotted to the right and chimp name to the left. Differences from the consensus sequences are plotted with red characters.\n",
    "Try to make this visualization, or something like it,  using matplotlib. Feel free to modify parts to your own liking or improve aspects that could be better.\n",
    "\n",
    "**Hints:**\n",
    "- You can use calls to `ax.text`in a for loop to plot individual characters in a controlled position.\n",
    "- You can remove all axis elements (spines, ticks, ticklabels, etc.) by calling `ax.axis('off')`<br>.\n",
    "\n",
    "<img src=\"sequence_similarity.svg\" width=1600 height=1600/>"
   ]
  },
  {
   "cell_type": "markdown",
   "id": "1c4ac1d9",
   "metadata": {
    "deletable": false,
    "editable": false
   },
   "source": [
    "## Submission\n",
    "\n",
    "Make sure you have run all cells in your notebook in order before running the cell below, so that all images/graphs appear in the output. The cell below will generate a zip file for you to submit. **Please save before exporting!**"
   ]
  },
  {
   "cell_type": "code",
   "execution_count": null,
   "id": "7c216cc6",
   "metadata": {
    "deletable": false,
    "editable": false
   },
   "outputs": [],
   "source": [
    "# Save your notebook first, then run this cell to export your submission.\n",
    "grader.export(pdf=False, run_tests=True)"
   ]
  },
  {
   "cell_type": "markdown",
   "id": "ed4e7a3c",
   "metadata": {},
   "source": [
    " "
   ]
  }
 ],
 "metadata": {
  "kernelspec": {
   "display_name": "Python 3 (ipykernel)",
   "language": "python",
   "name": "python3"
  },
  "language_info": {
   "codemirror_mode": {
    "name": "ipython",
    "version": 3
   },
   "file_extension": ".py",
   "mimetype": "text/x-python",
   "name": "python",
   "nbconvert_exporter": "python",
   "pygments_lexer": "ipython3",
   "version": "3.11.7"
  },
  "otter": {
   "OK_FORMAT": true,
   "tests": {
    "q1a": {
     "name": "q1a",
     "points": 8,
     "suites": [
      {
       "cases": [
        {
         "code": ">>> assert np.isclose(seeded_conf_interval[0], 227.654, atol=17.45424)\n",
         "hidden": false,
         "locked": false
        },
        {
         "code": ">>> assert np.isclose(seeded_conf_interval[1], 710.7738, atol=39.49539)\n",
         "hidden": false,
         "locked": false
        },
        {
         "code": ">>> assert np.isclose(unseeded_conf_interval[0], 74.51105, atol=7.0589)\n",
         "hidden": false,
         "locked": false
        },
        {
         "code": ">>> assert np.isclose(unseeded_conf_interval[1], 281.44225, atol=16.918)\n",
         "hidden": false,
         "locked": false
        }
       ],
       "scored": true,
       "setup": "",
       "teardown": "",
       "type": "doctest"
      }
     ]
    },
    "q2a": {
     "name": "q2a",
     "points": 8,
     "suites": [
      {
       "cases": [
        {
         "code": ">>> test = ['AAAA', 'ATAA', 'ACAA']\n>>> assert type(consensus(test)) == str\n",
         "failure_message": "Your function should return a string.",
         "hidden": false,
         "locked": false
        },
        {
         "code": ">>> test = ['AAAA', 'CTGA', 'CAGA', 'TAGA']\n>>> assert consensus(test) == 'CAGA'\n",
         "failure_message": "You function does not return the consensus sequence for an input with no ties.",
         "hidden": false,
         "locked": false
        },
        {
         "code": ">>> test = ['AAAA', 'ATAA', 'ACAA']\n>>> list_of_nuc2s = []\n>>> for i in range(100):\n...     nuc2 = consensus(test)[1]\n...     list_of_nuc2s.append(nuc2)\n>>> assert 'A' in list_of_nuc2s and 'T' in list_of_nuc2s and ('C' in list_of_nuc2s)\n",
         "failure_message": "You function doesn't randomly select a nucleotide if there is a tie between the most common ones.",
         "hidden": false,
         "locked": false
        }
       ],
       "scored": true,
       "setup": "",
       "teardown": "",
       "type": "doctest"
      }
     ]
    },
    "q2b": {
     "name": "q2b",
     "points": 2,
     "suites": [
      {
       "cases": [
        {
         "code": ">>> assert type(consensus_seq) == str\n",
         "failure_message": "consensus_seq needs to be a string.",
         "hidden": false,
         "locked": false
        },
        {
         "code": ">>> assert (consensus_seq == 'ATACCCTGGAGGCAAAAATCTTCCGATAGACGCCAGTCCCTAGTTGTCCCCGACCTC') | (consensus_seq == 'ATACCCTGGAGGCAAGAATCTTCCGATAGACGCCAGTCCCTAGTTGTCCCCGACCTC')\n",
         "failure_message": "consensus_seq isn't a consensus sequence of the 48 chimp seqs",
         "hidden": false,
         "locked": false
        }
       ],
       "scored": true,
       "setup": "",
       "teardown": "",
       "type": "doctest"
      }
     ]
    },
    "q2c": {
     "name": "q2c",
     "points": 8,
     "suites": [
      {
       "cases": [
        {
         "code": ">>> assert type(similarity('AAAA', ['AAAT'])) == dict\n",
         "failure_message": "Your similarity function should return a dictionary",
         "hidden": false,
         "locked": false
        },
        {
         "code": ">>> assert list(similarity('AAAA', ['AAAT', 'AATG', 'AAAA']).keys()) == [0, 1, 2]\n",
         "failure_message": "Your similarity function didn't create the dictionary keys correctly, you should have integer keys (starting at 0) to represent each sequence in the input list",
         "hidden": false,
         "locked": false
        },
        {
         "code": ">>> assert list(similarity('AAAA', ['AAAT', 'AATG']).values()) == [0.75, 0.5]\n",
         "failure_message": "Your similarity function didn't calculate the proprtions correctly, double check that you are finding the similarity between the input consensus sequence, and each sequence in the input list.",
         "hidden": false,
         "locked": false
        },
        {
         "code": ">>> assert len(consensus_dict) == 48\n",
         "failure_message": "consensus_dict is the wrong length, is should have 48 key,value pairs, one for each chimp sequence.",
         "hidden": false,
         "locked": false
        },
        {
         "code": ">>> assert list(consensus_dict.keys()) == [0, 1, 2, 3, 4, 5, 6, 7, 8, 9, 10, 11, 12, 13, 14, 15, 16, 17, 18, 19, 20, 21, 22, 23, 24, 25, 26, 27, 28, 29, 30, 31, 32, 33, 34, 35, 36, 37, 38, 39, 40, 41, 42, 43, 44, 45, 46, 47]\n",
         "failure_message": "consensus_dict should have keys 0 through 47, representing the chimp sequence number.",
         "hidden": false,
         "locked": false
        },
        {
         "code": ">>> assert np.isclose(consensus_dict[3], 0.754, atol=0.001) or np.isclose(consensus_dict[3], 0.736, atol=0.001)\n",
         "failure_message": "The values for consensus_dict are off, check your similiarity function to make sure you are calculating the similarity proportion between each chimp sequence and your consensus sequence.",
         "hidden": false,
         "locked": false
        }
       ],
       "scored": true,
       "setup": "",
       "teardown": "",
       "type": "doctest"
      }
     ]
    },
    "q2d": {
     "name": "q2d",
     "points": 10,
     "suites": [
      {
       "cases": [
        {
         "code": ">>> assert 'ATACCCTGGAGGCAAGAATCTTCCGATAGACGCCAGTCCCTAGTTGTCCCCGACCTC' in bootstrapped_consensus_list and 'ATACCCTGGAGGCAAAAATCTTCCGATAGACGCCAGTCCCTAGTTGTCCCCGACCTC' in bootstrapped_consensus_list and ('ATACCCTGGAGGCAAAAATCTTCCGATAGACGCCAGTCCCTAGTTGTCCCCGACATC' in bootstrapped_consensus_list)\n",
         "failure_message": "Your bootstrap method is incorrect, check that you randomly sample 48 sequences with replacement, then calculate consensus, then append the consensus to bootstrapped_consensus_list. Also check that you bootstrap 100 times",
         "hidden": false,
         "locked": false
        },
        {
         "code": ">>> assert len(sequence_counts) >= 10\n",
         "failure_message": "Check that you bootstrap 100 times and use the np.unique() method when determining counts for your sequence_counts dataframe.",
         "hidden": false,
         "locked": false
        },
        {
         "code": ">>> assert np.sort(sequence_counts['Count'])[-1] + np.sort(sequence_counts['Count'])[-2] >= 52\n",
         "failure_message": "Check that you bootstrap 100 times and use the np.unique() method when determining counts for your sequence_counts dataframe.",
         "hidden": false,
         "locked": false
        }
       ],
       "scored": true,
       "setup": "",
       "teardown": "",
       "type": "doctest"
      }
     ]
    }
   }
  }
 },
 "nbformat": 4,
 "nbformat_minor": 5
}
